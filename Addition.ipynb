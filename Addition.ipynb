{
  "nbformat": 4,
  "nbformat_minor": 0,
  "metadata": {
    "colab": {
      "provenance": [],
      "authorship_tag": "ABX9TyNrcv7H4eOPqR9XThx+1A1U",
      "include_colab_link": true
    },
    "kernelspec": {
      "name": "python3",
      "display_name": "Python 3"
    },
    "language_info": {
      "name": "python"
    }
  },
  "cells": [
    {
      "cell_type": "markdown",
      "metadata": {
        "id": "view-in-github",
        "colab_type": "text"
      },
      "source": [
        "<a href=\"https://colab.research.google.com/github/ChandiniRavada/PythonCodes/blob/main/Addition.ipynb\" target=\"_parent\"><img src=\"https://colab.research.google.com/assets/colab-badge.svg\" alt=\"Open In Colab\"/></a>"
      ]
    },
    {
      "cell_type": "markdown",
      "source": [
        "Addition Code in Python"
      ],
      "metadata": {
        "id": "j4rPJMr_w2md"
      }
    },
    {
      "cell_type": "code",
      "source": [
        "a = int(input())\n",
        "#b = int(input())\n",
        "print(\"Addition of two numbers = \",a+b)"
      ],
      "metadata": {
        "colab": {
          "base_uri": "https://localhost:8080/"
        },
        "id": "X_ylkbrtxXqo",
        "outputId": "2d06a0ed-069e-418e-db95-a5b1456a53c6"
      },
      "execution_count": 2,
      "outputs": [
        {
          "output_type": "stream",
          "name": "stdout",
          "text": [
            "10\n",
            "20\n",
            "Addition of two numbers =  30\n"
          ]
        }
      ]
    },
    {
      "cell_type": "code",
      "source": [],
      "metadata": {
        "id": "M-I1Hrjnx-Lo"
      },
      "execution_count": null,
      "outputs": []
    }
  ]
}